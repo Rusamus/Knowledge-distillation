{
  "nbformat": 4,
  "nbformat_minor": 0,
  "metadata": {
    "colab": {
      "name": "Untitled19.ipynb",
      "provenance": []
    },
    "kernelspec": {
      "name": "python3",
      "display_name": "Python 3"
    },
    "accelerator": "TPU"
  },
  "cells": [
    {
      "cell_type": "markdown",
      "metadata": {
        "id": "fFPKx0GqlKMX"
      },
      "source": [
        "#Knowledge distillation notebook\n"
      ]
    },
    {
      "cell_type": "code",
      "metadata": {
        "id": "_f2QIKasf54P"
      },
      "source": [
        "! wget -c 'path_dataset'\n",
        "! unzip dataset.zip\n"
      ],
      "execution_count": null,
      "outputs": []
    },
    {
      "cell_type": "code",
      "metadata": {
        "id": "i2VqB_Dq6PLo"
      },
      "source": [
        "import torch\n",
        "from torchvision import datasets, transforms\n",
        "import torch.nn as nn\n",
        "import torch.nn.functional as F\n",
        "import torch.optim as optim\n",
        "from tqdm import tqdm_notebook\n",
        "import numpy as np\n",
        "import time\n",
        "\n",
        "#start_time = time.time() #timing of ex.\n",
        "#print(\"--- %s seconds ---\" % (time.time() - start_time))\n",
        "\n",
        "transform = transforms.Compose([\n",
        "         transforms.Resize((150,150)),\n",
        "         transforms.ToTensor(),\n",
        "         transforms.Normalize(mean=[0.485, 0.456, 0.406],\n",
        "                              std=[0.229, 0.224, 0.225])\n",
        "])\n",
        "\n",
        "\n",
        "train_data = datasets.ImageFolder('seg_train/seg_train', transform=transform)\n",
        "test_data = datasets.ImageFolder('seg_test/seg_test',transform=transform)\n",
        "train_loader = torch.utils.data.DataLoader(train_data, batch_size=128, shuffle=True)\n",
        "test_loader = torch.utils.data.DataLoader(test_data, batch_size=512, shuffle=True)\n",
        "\n",
        "dataiter = iter(test_loader)\n",
        "images, labels = dataiter.next()\n",
        "images.shape\n"
      ],
      "execution_count": null,
      "outputs": []
    },
    {
      "cell_type": "code",
      "metadata": {
        "id": "GGd_S47QggHA"
      },
      "source": [
        "import matplotlib.pyplot as plt\n",
        "\n",
        "def show_imgs(imgs, labels):\n",
        "    f, axes= plt.subplots(1, 10, figsize=(30,30))\n",
        "    for i, axis in enumerate(axes):\n",
        "      axes[i].imshow(np.squeeze(np.transpose(imgs[i+100].numpy(), (1, 2, 0))), cmap='gray')\n",
        "      axes[i].set_title(labels[i+100].numpy())\n",
        "    plt.show()\n",
        "\n",
        "#show_imgs(images, labels)"
      ],
      "execution_count": null,
      "outputs": []
    },
    {
      "cell_type": "markdown",
      "metadata": {
        "id": "0UjyYAbTlbj-"
      },
      "source": [
        "#Knowledge from logits\n",
        "####The student is a simple network with 2 Conv2d Layers and 2 Linear Layers \n",
        "####The teacher is an Alexnet network with Linear layer\n",
        "\n"
      ]
    },
    {
      "cell_type": "code",
      "metadata": {
        "id": "Y4dmZZrXquKa"
      },
      "source": [
        "class Teacher(nn.Module):\n",
        "  \n",
        "    def __init__(self):\n",
        "        super().__init__()\n",
        "      \n",
        "        self.conv1 = nn.Conv2d(3,5,kernel_size=3)\n",
        "        self.maxpool1 = nn.MaxPool2d((2,2))\n",
        "        self.bn1 = nn.BatchNorm2d(5)\n",
        "        self.conv2 = nn.Conv2d(5,4,kernel_size=3)\n",
        "        self.maxpool2 = nn.MaxPool2d((2,2))\n",
        "        self.bn2 = nn.BatchNorm2d(4)\n",
        "        self.conv3 = nn.Conv2d(4,3,kernel_size=3)\n",
        "        \n",
        "\n",
        "        self.fc1 = nn.Linear(3468,256)\n",
        "        self.bn3 = nn.BatchNorm1d(256)\n",
        "        self.fc2 = nn.Linear(256,6)\n",
        "    \n",
        "    def forward(self, x):\n",
        "        x = F.relu(self.conv1(x))\n",
        "        x = self.maxpool1(x)\n",
        "        x = self.bn1(x)\n",
        "        x = F.relu(self.conv2(x))\n",
        "        x = self.maxpool2(x)\n",
        "        x = self.bn2(x)\n",
        "        x = F.relu(self.conv3(x))\n",
        "        x = x.view(x.shape[0], -1)\n",
        "        x = F.relu(self.fc1(x))\n",
        "        x = self.bn3(x)\n",
        "        x = F.softmax(self.fc2(x))\n",
        "        return x\n",
        "\n",
        "from torchvision import models\n",
        "AlexNet = models.alexnet(pretrained=True)\n",
        "AlexNet.classifier = nn.Sequential(*list(AlexNet.classifier.children()))[:-1] \n",
        "\n",
        "class Sofistic_Teacher(nn.Module):\n",
        "\n",
        "    def __init__(self):\n",
        "        super().__init__()\n",
        "        self.net = AlexNet\n",
        "        self.fc = nn.Linear(4096,6)\n",
        "\n",
        "    def forward(self, x):\n",
        "        x = self.net(x)\n",
        "        x = F.softmax(self.fc(x))      \n",
        "        return x\n",
        "\n",
        "class Teacher_Assistant(nn.Module):\n",
        "\n",
        "  def __init__(self):\n",
        "    pass\n",
        "\n",
        "class Net(nn.Module):\n",
        "    def __init__(self):\n",
        "        super().__init__()\n",
        "        self.conv = nn.Conv2d(3,1, kernel_size = 3)\n",
        "        self.maxpool = nn.MaxPool2d((2,2))\n",
        "        self.fc1 = nn.Linear(5476, 128)\n",
        "        self.fc2 = nn.Linear(128, 6)\n",
        "\n",
        "    def forward(self, x):\n",
        "        x = F.relu(self.conv(x))\n",
        "        x = self.maxpool(x)\n",
        "        x = x.view(x.shape[0], -1)\n",
        "        x = F.relu(self.fc1(x))\n",
        "        x = self.fc2(x)\n",
        "        return x\n"
      ],
      "execution_count": null,
      "outputs": []
    },
    {
      "cell_type": "markdown",
      "metadata": {
        "id": "h3NoQ6RhkXkJ"
      },
      "source": [
        "#KD-LOSS"
      ]
    },
    {
      "cell_type": "code",
      "metadata": {
        "id": "5cFGjSWBFLFZ"
      },
      "source": [
        "def loss_fn_kd(outputs, labels, teacher_outputs, alpha, T ):\n",
        "\n",
        "    KD_loss = nn.KLDivLoss()(F.log_softmax(outputs/T, dim=1),\n",
        "                             F.softmax(teacher_outputs/T, dim=1)) * (alpha * T * T) + \\\n",
        "              F.cross_entropy(outputs, labels) * (1. - alpha)\n",
        "\n",
        "    return KD_loss\n",
        "\n",
        "\n",
        "def accuracy(outputs, labels):\n",
        "\n",
        "    outputs = np.argmax(outputs, axis=1)\n",
        "    return np.sum(outputs==labels)/float(labels.size)"
      ],
      "execution_count": null,
      "outputs": []
    },
    {
      "cell_type": "markdown",
      "metadata": {
        "id": "1HYxJAG3LDDD"
      },
      "source": [
        "#Train"
      ]
    },
    {
      "cell_type": "code",
      "metadata": {
        "id": "QwJw5-xDQQ2r"
      },
      "source": [
        "def train(net, n_epoch=5, teachernet = None , alpha = None, T = None):\n",
        "\n",
        "  acc_train = []\n",
        "  acc_test = []\n",
        "  \n",
        "  net.train()\n",
        "  if teachernet:\n",
        "      teachernet.eval()\n",
        "  loss_hard = torch.nn.CrossEntropyLoss()\n",
        "  optimizer = torch.optim.Adam(net.parameters(), lr=1e-2)\n",
        "  scheduler = optim.lr_scheduler.StepLR(optimizer,\n",
        "                                             step_size=60, gamma=0.6)\n",
        "  for epoch in tqdm_notebook(range(n_epoch)):\n",
        "\n",
        "      running_loss = 0.0\n",
        "      train_dataiter = iter(train_loader)\n",
        "      for i, batch in enumerate(tqdm_notebook(train_dataiter)):\n",
        "          X_batch, y_batch = batch\n",
        "          optimizer.zero_grad()\n",
        "          y_pred = net(X_batch)\n",
        "          if teachernet:\n",
        "              teacher_outputs = teachernet(X_batch)\n",
        "              loss = loss_fn_kd(y_pred, y_batch, teacher_outputs, alpha, T)\n",
        "          else:\n",
        "              loss = loss_hard(y_pred, y_batch)\n",
        "          loss.backward()\n",
        "          optimizer.step()\n",
        "          scheduler.step()\n",
        "          running_loss += loss.item()\n",
        "          \n",
        "          if i % 25 == 0:\n",
        "              test_dataiter = iter(test_loader)\n",
        "              images, labels = test_dataiter.next()\n",
        "              acc_test.append(accuracy(net.forward(images).detach().numpy(),labels.numpy()))\n",
        "              acc_train.append(accuracy(y_pred.detach().numpy(),y_batch.numpy()))\n",
        "              \n",
        "              print('loss: %.3f,' % (running_loss/25), 'acc: %.3f,' % (accuracy(y_pred.detach().numpy(),y_batch.numpy())))\n",
        "              running_loss = 0.0\n",
        "  print('Обучение закончено')\n",
        "  return net, acc_train, acc_test"
      ],
      "execution_count": null,
      "outputs": []
    },
    {
      "cell_type": "code",
      "metadata": {
        "id": "ocwueZfHzvFM"
      },
      "source": [
        "start_time = time.time() #timing of ex.\n",
        "\n",
        "net = Net()\n",
        "net, acc_train_net, acc_test_net = train(net,3)\n",
        "\n",
        "print(\"--- %s seconds ---\" % (time.time() - start_time))\n",
        "\n",
        "\n",
        "test_dataiter = iter(test_loader)\n",
        "images, labels = test_dataiter.next()\n",
        "print(accuracy(net.forward(images).detach().numpy(),labels.numpy()))\n",
        "\n",
        "plt.plot(range(len(acc_train_net)),acc_train_net, label = 'acc_train_net')\n",
        "plt.plot(range(len(acc_test_net)),acc_test_net, label = 'acc_test_net')\n",
        "plt.legend()\n",
        "plt.show()\n"
      ],
      "execution_count": null,
      "outputs": []
    },
    {
      "cell_type": "markdown",
      "metadata": {
        "id": "1hwAHTOEFV9s"
      },
      "source": [
        "#GRID SEARCH"
      ]
    },
    {
      "cell_type": "code",
      "metadata": {
        "id": "K1D4DElt39UP"
      },
      "source": [
        "alpha = np.array([0,0.2,0.4,0.6,0.9,1])\n",
        "temperature = np.array([1,5,10,50,200])\n",
        "nets = np.zeros([len(alpha),len(temperature)])\n",
        "for i in range(len(alpha)):\n",
        "  for j in range(len(temperature)):\n",
        "    print(i,j)\n",
        "    net3 = Net()\n",
        "    net3, acc_train_net3, acc_test_net3 = train(net3,3, teacher, alpha[i], temperature[j])\n",
        "      \n",
        "    test_dataiter = iter(test_loader)\n",
        "    images, labels = test_dataiter.next()\n",
        "    nets[i,j] = accuracy(net3.forward(images).detach().numpy(),labels.numpy())\n",
        "nets"
      ],
      "execution_count": null,
      "outputs": []
    },
    {
      "cell_type": "code",
      "metadata": {
        "id": "wpdRI8gL-nwW"
      },
      "source": [
        "sof_teacher = Sofistic_Teacher()\n",
        "sof_teacher = train(sof_teacher, 5)\n",
        "\n",
        "test_dataiter = iter(test_loader)\n",
        "images, labels = test_dataiter.next()\n",
        "print(accuracy(sof_teacher.forward(images).detach().numpy(),labels.numpy()))"
      ],
      "execution_count": null,
      "outputs": []
    },
    {
      "cell_type": "code",
      "metadata": {
        "id": "sF6SSpKvtkxM"
      },
      "source": [
        "nets2 = nets.transpose()\n",
        "print(nets2.shape)\n",
        "colours=['r','g','b','k', 'y']\n",
        "plt.figure()  \n",
        "for i in range(5):\n",
        "    plt.plot(alpha,nets2[i],colours[i], label = '{}'.format(temperature[i]))\n",
        "plt.legend()\n",
        "plt.rcParams[\"figure.figsize\"] = (5,5)\n",
        "plt.show()\n",
        "nets2"
      ],
      "execution_count": null,
      "outputs": []
    },
    {
      "cell_type": "code",
      "metadata": {
        "id": "Q8iD4WXIt6U9"
      },
      "source": [
        "'''#In the picture we can see that max value of accuracy are 0.4-0.7        \n",
        "net = Net()\n",
        "net = train(net,3)\n",
        "\n",
        "test_dataiter = iter(test_loader)\n",
        "images, labels = test_dataiter.next()\n",
        "print(accuracy(net.forward(images).detach().numpy(),labels.numpy()))\n",
        "'''\n",
        "net = Net()\n",
        "net = train(net,3,teacher, 0.5, 2)\n",
        "\n",
        "test_dataiter = iter(test_loader)\n",
        "images, labels = test_dataiter.next()\n",
        "print(accuracy(net.forward(images).detach().numpy(),labels.numpy()))"
      ],
      "execution_count": null,
      "outputs": []
    },
    {
      "cell_type": "code",
      "metadata": {
        "id": "cAonJ8xjDAuR"
      },
      "source": [
        "#In the picture we can see that max value of accuracy are 0.4-0.7        \n",
        "net = Net()\n",
        "net = train(net,3)\n",
        "\n",
        "test_dataiter = iter(test_loader)\n",
        "images, labels = test_dataiter.next()\n",
        "print(accuracy(net.forward(images).detach().numpy(),labels.numpy()))''\n",
        "\n",
        "'''import torch.nn as nn\n",
        "\n",
        "modules = []\n",
        "modules.append(nn.Linear(500, 256))\n",
        "modules.append(nn.Linear(10, 10))\n",
        "\n",
        "sequential = nn.Sequential(*modules)'''"
      ],
      "execution_count": null,
      "outputs": []
    },
    {
      "cell_type": "code",
      "metadata": {
        "id": "GcxX6wSWIb3G"
      },
      "source": [
        "net2 = Net()\n",
        "net2 = train(net2,3,net, 0.5, 2)\n",
        "\n",
        "test_dataiter = iter(test_loader)\n",
        "images, labels = test_dataiter.next()\n",
        "print(accuracy(net.forward(images).detach().numpy(),labels.numpy()))"
      ],
      "execution_count": null,
      "outputs": []
    },
    {
      "cell_type": "code",
      "metadata": {
        "id": "a-lFoTtxVuxt"
      },
      "source": [
        "plt.plot(range(len(acc_train)),acc_train, label = 'acc_train')\n",
        "plt.plot(range(len(acc_test)),acc_test, label = 'acc_test')\n",
        "plt.legend()\n",
        "plt.show()\n"
      ],
      "execution_count": null,
      "outputs": []
    },
    {
      "cell_type": "code",
      "metadata": {
        "id": "1ksjQFLVTqvm"
      },
      "source": [
        "net3 = Teacher()\n",
        "net3 = train(net3,3,net, 0.5, 2)\n",
        "\n",
        "test_dataiter = iter(test_loader)\n",
        "images, labels = test_dataiter.next()\n",
        "print(accuracy(net.forward(images).detach().numpy(),labels.numpy()))"
      ],
      "execution_count": null,
      "outputs": []
    }
  ]
}